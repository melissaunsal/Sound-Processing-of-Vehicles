{
 "cells": [
  {
   "cell_type": "code",
   "execution_count": 19,
   "id": "207a8ff6",
   "metadata": {},
   "outputs": [],
   "source": [
    "# audio libraries\n",
    "import librosa\n",
    "import librosa.display as lplt\n",
    "import IPython\n",
    "\n",
    "# import matplotlib to be able to display graphs\n",
    "import matplotlib.pyplot as plt\n",
    "\n",
    "# transform .wav into .csv\n",
    "import csv\n",
    "import os\n",
    "import numpy as np\n",
    "import pandas as pd\n",
    "\n",
    "# preprocessing\n",
    "from sklearn.preprocessing import LabelEncoder\n",
    "from sklearn.preprocessing import StandardScaler\n",
    "from sklearn.model_selection import train_test_split\n",
    "\n",
    "# model\n",
    "import keras\n",
    "import tensorflow as tf\n",
    "import pandas as pd\n",
    "import numpy as np\n",
    "import matplotlib.pyplot as plt\n",
    "%matplotlib inline\n",
    "from tensorflow.keras.models import Sequential"
   ]
  },
  {
   "cell_type": "code",
   "execution_count": 11,
   "id": "1ad574c0",
   "metadata": {},
   "outputs": [],
   "source": [
    "import os\n",
    "\n",
    "from PIL import Image\n",
    "\n",
    "import pathlib\n",
    "\n",
    "import csv\n",
    "\n",
    "from sklearn.model_selection import train_test_split\n",
    "\n",
    "from sklearn.preprocessing import LabelEncoder, StandardScaler\n",
    "\n",
    "import keras\n",
    "\n",
    "from keras import layers\n",
    "from keras import layers\n",
    "\n",
    "import keras"
   ]
  },
  {
   "cell_type": "code",
   "execution_count": 12,
   "id": "5f692ec4",
   "metadata": {},
   "outputs": [
    {
     "data": {
      "text/html": [
       "<div>\n",
       "<style scoped>\n",
       "    .dataframe tbody tr th:only-of-type {\n",
       "        vertical-align: middle;\n",
       "    }\n",
       "\n",
       "    .dataframe tbody tr th {\n",
       "        vertical-align: top;\n",
       "    }\n",
       "\n",
       "    .dataframe thead th {\n",
       "        text-align: right;\n",
       "    }\n",
       "</style>\n",
       "<table border=\"1\" class=\"dataframe\">\n",
       "  <thead>\n",
       "    <tr style=\"text-align: right;\">\n",
       "      <th></th>\n",
       "      <th>filename</th>\n",
       "      <th>chroma_frequency</th>\n",
       "      <th>sp_centroid</th>\n",
       "      <th>spectral_bandwidth</th>\n",
       "      <th>rolloff</th>\n",
       "      <th>zero_crossing_rate</th>\n",
       "      <th>mfcc</th>\n",
       "      <th>label</th>\n",
       "    </tr>\n",
       "  </thead>\n",
       "  <tbody>\n",
       "    <tr>\n",
       "      <th>0</th>\n",
       "      <td>0_araba.wav</td>\n",
       "      <td>0.925419</td>\n",
       "      <td>5207.658408</td>\n",
       "      <td>3302.369712</td>\n",
       "      <td>9194.677734</td>\n",
       "      <td>0.000488</td>\n",
       "      <td>-8.651381</td>\n",
       "      <td>araba</td>\n",
       "    </tr>\n",
       "    <tr>\n",
       "      <th>1</th>\n",
       "      <td>0_araba1.wav</td>\n",
       "      <td>0.241507</td>\n",
       "      <td>1178.609159</td>\n",
       "      <td>1594.737673</td>\n",
       "      <td>2332.165527</td>\n",
       "      <td>0.031788</td>\n",
       "      <td>-1.927632</td>\n",
       "      <td>araba</td>\n",
       "    </tr>\n",
       "    <tr>\n",
       "      <th>2</th>\n",
       "      <td>0_car.wav</td>\n",
       "      <td>0.330019</td>\n",
       "      <td>804.282241</td>\n",
       "      <td>1458.745530</td>\n",
       "      <td>1517.841593</td>\n",
       "      <td>0.022377</td>\n",
       "      <td>-1.788026</td>\n",
       "      <td>araba</td>\n",
       "    </tr>\n",
       "    <tr>\n",
       "      <th>3</th>\n",
       "      <td>100_araba.wav</td>\n",
       "      <td>0.552048</td>\n",
       "      <td>1482.507282</td>\n",
       "      <td>1802.280106</td>\n",
       "      <td>3025.564575</td>\n",
       "      <td>0.059837</td>\n",
       "      <td>5.683957</td>\n",
       "      <td>araba</td>\n",
       "    </tr>\n",
       "    <tr>\n",
       "      <th>4</th>\n",
       "      <td>100_araba1.wav</td>\n",
       "      <td>0.294267</td>\n",
       "      <td>1309.865628</td>\n",
       "      <td>1289.780176</td>\n",
       "      <td>2245.883179</td>\n",
       "      <td>0.070170</td>\n",
       "      <td>-7.597847</td>\n",
       "      <td>araba</td>\n",
       "    </tr>\n",
       "  </tbody>\n",
       "</table>\n",
       "</div>"
      ],
      "text/plain": [
       "         filename  chroma_frequency  sp_centroid  spectral_bandwidth  \\\n",
       "0     0_araba.wav          0.925419  5207.658408         3302.369712   \n",
       "1    0_araba1.wav          0.241507  1178.609159         1594.737673   \n",
       "2       0_car.wav          0.330019   804.282241         1458.745530   \n",
       "3   100_araba.wav          0.552048  1482.507282         1802.280106   \n",
       "4  100_araba1.wav          0.294267  1309.865628         1289.780176   \n",
       "\n",
       "       rolloff  zero_crossing_rate      mfcc  label  \n",
       "0  9194.677734            0.000488 -8.651381  araba  \n",
       "1  2332.165527            0.031788 -1.927632  araba  \n",
       "2  1517.841593            0.022377 -1.788026  araba  \n",
       "3  3025.564575            0.059837  5.683957  araba  \n",
       "4  2245.883179            0.070170 -7.597847  araba  "
      ]
     },
     "execution_count": 12,
     "metadata": {},
     "output_type": "execute_result"
    }
   ],
   "source": [
    "\n",
    "df = pd.read_csv(\"C:\\\\Users\\\\asus\\\\Desktop\\\\projeee\\\\dataAudio0.csv\",encoding=\"ISO-8859-1\")\n",
    "df.head()"
   ]
  },
  {
   "cell_type": "code",
   "execution_count": 13,
   "id": "dfcfccbb",
   "metadata": {},
   "outputs": [],
   "source": [
    "x=df.iloc[:,[1,6]].values\n"
   ]
  },
  {
   "cell_type": "code",
   "execution_count": 14,
   "id": "aa2240ee",
   "metadata": {},
   "outputs": [
    {
     "data": {
      "image/png": "[encoded data removed]",
      "text/plain": [
       "<Figure size 432x288 with 1 Axes>"
      ]
     },
     "metadata": {
      "needs_background": "light"
     },
     "output_type": "display_data"
    }
   ],
   "source": [
    "import scipy.cluster.hierarchy as sch \n",
    "den=sch.dendrogram(sch.linkage(x,method=\"ward\"))\n",
    "plt.show()"
   ]
  },
  {
   "cell_type": "code",
   "execution_count": 15,
   "id": "4138ec62",
   "metadata": {},
   "outputs": [],
   "source": [
    "from sklearn.cluster import AgglomerativeClustering \n",
    "ac=AgglomerativeClustering (n_clusters=8)"
   ]
  },
  {
   "cell_type": "code",
   "execution_count": 16,
   "id": "13c11af0",
   "metadata": {},
   "outputs": [],
   "source": [
    "yhead=ac.fit_predict(x)"
   ]
  },
  {
   "cell_type": "code",
   "execution_count": 17,
   "id": "d6d82df2",
   "metadata": {},
   "outputs": [
    {
     "data": {
      "text/plain": [
       "<matplotlib.collections.PathCollection at 0x1a38df7fa90>"
      ]
     },
     "execution_count": 17,
     "metadata": {},
     "output_type": "execute_result"
    },
    {
     "data": {
      "image/png": "[encoded data removed]",
      "text/plain": [
       "<Figure size 432x288 with 1 Axes>"
      ]
     },
     "metadata": {
      "needs_background": "light"
     },
     "output_type": "display_data"
    }
   ],
   "source": [
    "plt.scatter(x[yhead==0,0],x[yhead==0,1],color=\"red\")\n",
    "plt.scatter(x[yhead==1,0],x[yhead==1,1],color=\"green\")\n",
    "plt.scatter(x[yhead==2,0],x[yhead==2,1],color=\"blue\")\n",
    "plt.scatter(x[yhead==3,0],x[yhead==3,1],color=\"yellow\")\n",
    "plt.scatter(x[yhead==4,0],x[yhead==4,1],color=\"pink\")\n",
    "plt.scatter(x[yhead==5,0],x[yhead==5,1],color=\"grey\")\n",
    "plt.scatter(x[yhead==6,0],x[yhead==6,1],color=\"black\")\n",
    "\n",
    "\n"
   ]
  }
 ],
 "metadata": {
  "kernelspec": {
   "display_name": "Python 3 (ipykernel)",
   "language": "python",
   "name": "python3"
  },
  "language_info": {
   "codemirror_mode": {
    "name": "ipython",
    "version": 3
   },
   "file_extension": ".py",
   "mimetype": "text/x-python",
   "name": "python",
   "nbconvert_exporter": "python",
   "pygments_lexer": "ipython3",
   "version": "3.9.7"
  }
 },
 "nbformat": 4,
 "nbformat_minor": 5
}
