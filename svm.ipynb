{
 "cells": [
  {
   "cell_type": "code",
   "execution_count": 2,
   "id": "a44554b1",
   "metadata": {},
   "outputs": [
    {
     "name": "stdout",
     "output_type": "stream",
     "text": [
      "            filename  chroma_frequency  sp_centroid  spectral_bandwidth  \\\n",
      "0        0_araba.wav          0.925419  5207.658408         3302.369712   \n",
      "1       0_araba1.wav          0.241507  1178.609159         1594.737673   \n",
      "2          0_car.wav          0.330019   804.282241         1458.745530   \n",
      "3      100_araba.wav          0.552048  1482.507282         1802.280106   \n",
      "4     100_araba1.wav          0.294267  1309.865628         1289.780176   \n",
      "...              ...               ...          ...                 ...   \n",
      "9918    98_uçak1.wav          0.573398  1745.196088         2201.663077   \n",
      "9919     99_uçak.wav          0.668344  1513.386773         2088.230131   \n",
      "9920    99_uçak1.wav          0.572255  1780.400875         2241.761464   \n",
      "9921      9_uçak.wav          0.490301  2639.185421         2642.039953   \n",
      "9922     9_uçak1.wav          0.576898  1750.781627         2214.726942   \n",
      "\n",
      "          rolloff  zero_crossing_rate      mfcc  label  \n",
      "0     9194.677734            0.000488 -8.651381  araba  \n",
      "1     2332.165527            0.031788 -1.927632  araba  \n",
      "2     1517.841593            0.022377 -1.788026  araba  \n",
      "3     3025.564575            0.059837  5.683957  araba  \n",
      "4     2245.883179            0.070170 -7.597847  araba  \n",
      "...           ...                 ...       ...    ...  \n",
      "9918  3807.987467            0.068402  7.743171   uçak  \n",
      "9919  3365.609741            0.051500 -3.349851   uçak  \n",
      "9920  3915.354411            0.068836  7.491671   uçak  \n",
      "9921  5280.619303            0.120906 -9.750813   uçak  \n",
      "9922  3837.545776            0.072268  4.882142   uçak  \n",
      "\n",
      "[9923 rows x 8 columns]\n"
     ]
    }
   ],
   "source": [
    "import pandas  as pd \n",
    "data=pd.read_csv(\"C:\\\\Users\\\\asus\\\\Desktop\\\\projeee\\\\dataAudio0.csv\",encoding=\"ISO-8859-1\")\n",
    "print(data)"
   ]
  },
  {
   "cell_type": "code",
   "execution_count": 3,
   "id": "fd7ee662",
   "metadata": {},
   "outputs": [
    {
     "name": "stdout",
     "output_type": "stream",
     "text": [
      "[['araba']\n",
      " ['araba']\n",
      " ['araba']\n",
      " ...\n",
      " ['uçak']\n",
      " ['uçak']\n",
      " ['uçak']]\n",
      "[[ 9.25419331e-01  5.20765841e+03  3.30236971e+03  9.19467773e+03\n",
      "   4.88281250e-04 -8.65138149e+00]\n",
      " [ 2.41506666e-01  1.17860916e+03  1.59473767e+03  2.33216553e+03\n",
      "   3.17880136e-02 -1.92763245e+00]\n",
      " [ 3.30018699e-01  8.04282241e+02  1.45874553e+03  1.51784159e+03\n",
      "   2.23772967e-02 -1.78802562e+00]\n",
      " ...\n",
      " [ 5.72254956e-01  1.78040088e+03  2.24176146e+03  3.91535441e+03\n",
      "   6.88363534e-02  7.49167109e+00]\n",
      " [ 4.90301102e-01  2.63918542e+03  2.64203995e+03  5.28061930e+03\n",
      "   1.20906123e-01 -9.75081253e+00]\n",
      " [ 5.76897621e-01  1.75078163e+03  2.21472694e+03  3.83754578e+03\n",
      "   7.22678856e-02  4.88214207e+00]]\n"
     ]
    }
   ],
   "source": [
    "label=data.iloc[:,-1:].values\n",
    "features=data.iloc[:,1:-1].values\n",
    "print(label)\n",
    "print(features)"
   ]
  },
  {
   "cell_type": "code",
   "execution_count": 4,
   "id": "ce104013",
   "metadata": {},
   "outputs": [
    {
     "name": "stdout",
     "output_type": "stream",
     "text": [
      "            filename  chroma_frequency  sp_centroid  spectral_bandwidth  \\\n",
      "0        0_araba.wav          0.925419  5207.658408         3302.369712   \n",
      "1       0_araba1.wav          0.241507  1178.609159         1594.737673   \n",
      "2          0_car.wav          0.330019   804.282241         1458.745530   \n",
      "3      100_araba.wav          0.552048  1482.507282         1802.280106   \n",
      "4     100_araba1.wav          0.294267  1309.865628         1289.780176   \n",
      "...              ...               ...          ...                 ...   \n",
      "9918    98_uçak1.wav          0.573398  1745.196088         2201.663077   \n",
      "9919     99_uçak.wav          0.668344  1513.386773         2088.230131   \n",
      "9920    99_uçak1.wav          0.572255  1780.400875         2241.761464   \n",
      "9921      9_uçak.wav          0.490301  2639.185421         2642.039953   \n",
      "9922     9_uçak1.wav          0.576898  1750.781627         2214.726942   \n",
      "\n",
      "          rolloff  zero_crossing_rate      mfcc  label  \n",
      "0     9194.677734            0.000488 -8.651381  araba  \n",
      "1     2332.165527            0.031788 -1.927632  araba  \n",
      "2     1517.841593            0.022377 -1.788026  araba  \n",
      "3     3025.564575            0.059837  5.683957  araba  \n",
      "4     2245.883179            0.070170 -7.597847  araba  \n",
      "...           ...                 ...       ...    ...  \n",
      "9918  3807.987467            0.068402  7.743171   uçak  \n",
      "9919  3365.609741            0.051500 -3.349851   uçak  \n",
      "9920  3915.354411            0.068836  7.491671   uçak  \n",
      "9921  5280.619303            0.120906 -9.750813   uçak  \n",
      "9922  3837.545776            0.072268  4.882142   uçak  \n",
      "\n",
      "[9923 rows x 8 columns]\n",
      "[[ 6.07679129e-01  8.50467166e+02  7.70544984e+02  1.56733805e+03\n",
      "   5.42353877e-02 -9.01502818e-02]\n",
      " [ 1.92114830e-01  1.01203403e+03  1.33638116e+03  1.90788167e+03\n",
      "   3.38541667e-02 -6.65298557e+00]\n",
      " [ 6.46203041e-01  1.44813774e+03  2.23295095e+03  3.05821330e+03\n",
      "   4.16011104e-02  3.79440427e+00]\n",
      " ...\n",
      " [ 5.86170077e-01  1.01204067e+03  1.61141296e+03  2.01185913e+03\n",
      "   2.42151331e-02  5.45952988e+00]\n",
      " [ 5.80890119e-01  8.83735919e+02  1.13670220e+03  1.46660055e+03\n",
      "   4.82901114e-02 -5.07359552e+00]\n",
      " [ 6.14707947e-01  7.77583384e+02  1.34026553e+03  1.12082316e+03\n",
      "   3.38406033e-02 -1.00030136e+01]]\n"
     ]
    }
   ],
   "source": [
    "from sklearn.model_selection import train_test_split\n",
    "x_train, x_test, y_train, y_test= train_test_split(features,label,test_size=0.2 ,random_state=42)\n",
    "print(data)\n",
    "print(x_test)"
   ]
  },
  {
   "cell_type": "code",
   "execution_count": 5,
   "id": "537282bc",
   "metadata": {},
   "outputs": [
    {
     "name": "stderr",
     "output_type": "stream",
     "text": [
      "C:\\Users\\asus\\anaconda3\\lib\\site-packages\\sklearn\\utils\\validation.py:63: DataConversionWarning: A column-vector y was passed when a 1d array was expected. Please change the shape of y to (n_samples, ), for example using ravel().\n",
      "  return f(*args, **kwargs)\n"
     ]
    },
    {
     "data": {
      "text/plain": [
       "SVC(kernel='linear')"
      ]
     },
     "execution_count": 5,
     "metadata": {},
     "output_type": "execute_result"
    }
   ],
   "source": [
    "from sklearn.svm import SVC\n",
    "sv=SVC(kernel='linear')\n",
    "sv.fit(x_train, y_train)"
   ]
  },
  {
   "cell_type": "code",
   "execution_count": null,
   "id": "1ba1d7e9",
   "metadata": {},
   "outputs": [],
   "source": [
    "result=sv.predict(x_test)\n",
    "from sklearn.metrics import confusion_matrix\n",
    "confmat=confusion_matrix(y_test,result)\n",
    "print(confmat)"
   ]
  },
  {
   "cell_type": "code",
   "execution_count": null,
   "id": "4ecb4c59",
   "metadata": {},
   "outputs": [],
   "source": [
    "\n",
    "precision = precision_score(y_test, result,average='macro')\n",
    "recall = recall_score(y_test, result, average='macro')\n",
    "fmeasure = f1_score(y_test, result, average='macro')\n",
    "\n",
    "\n",
    "print(precision)\n",
    "print(recall)\n",
    "print(fmeasure)"
   ]
  },
  {
   "cell_type": "code",
   "execution_count": null,
   "id": "c00f643a",
   "metadata": {},
   "outputs": [],
   "source": [
    "from sklearn.metrics import accuracy_score\n",
    "acc= accuracy_score(y_test,result)\n",
    "print(acc)"
   ]
  },
  {
   "cell_type": "code",
   "execution_count": null,
   "id": "45e6444c",
   "metadata": {},
   "outputs": [],
   "source": []
  },
  {
   "cell_type": "code",
   "execution_count": null,
   "id": "e1e7b864",
   "metadata": {},
   "outputs": [],
   "source": []
  }
 ],
 "metadata": {
  "kernelspec": {
   "display_name": "Python 3 (ipykernel)",
   "language": "python",
   "name": "python3"
  },
  "language_info": {
   "codemirror_mode": {
    "name": "ipython",
    "version": 3
   },
   "file_extension": ".py",
   "mimetype": "text/x-python",
   "name": "python",
   "nbconvert_exporter": "python",
   "pygments_lexer": "ipython3",
   "version": "3.9.7"
  }
 },
 "nbformat": 4,
 "nbformat_minor": 5
}
